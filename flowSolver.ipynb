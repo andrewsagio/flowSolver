{
 "metadata": {
  "name": "",
  "signature": "sha256:0de006287aa926e8e45633ce54a3f765b719de6af1db99352a61c5887df4f4df"
 },
 "nbformat": 3,
 "nbformat_minor": 0,
 "worksheets": [
  {
   "cells": [
    {
     "cell_type": "heading",
     "level": 1,
     "metadata": {},
     "source": [
      "Flow Solver"
     ]
    },
    {
     "cell_type": "markdown",
     "metadata": {},
     "source": [
      "<img style=\"-webkit-user-select: none\" src=\"https://lh3.ggpht.com/W4Q8dd8zjpdYe1KyV2t56QjJ_qgq299FzyGs4sZpFl50-vJ2SFNjM3cA1BGU32jqRp0=w300-rw\">\n",
      "\n",
      "I have been playing this addicting android game <a href='https://play.google.com/store/apps/details?id=com.bigduckgames.flow&hl=en'>Flow</a>.  I also ran into a post in a game developer forum that someone asked how to write a solver to find the solution of a game.  So I thought it would be an interesting problem to solve.\n",
      "\n",
      "The game is really simple.  The starting map is an N-by-M grid with a number of pairs of color dots on it.  The goal is the game is to connect the pairs of dots with the same color, and fill up all the grids on the map."
     ]
    },
    {
     "cell_type": "heading",
     "level": 2,
     "metadata": {},
     "source": [
      "Defining a game map"
     ]
    },
    {
     "cell_type": "markdown",
     "metadata": {},
     "source": [
      "First I define a graph class to store and generate a game map.  The map is represented by a 2D N-by-M matrix.  An element 0 means an empty spot.  Each color is presented by an integer 1 or higher.  The Graph class also has a method for getting the neighbors of a given position."
     ]
    },
    {
     "cell_type": "code",
     "collapsed": false,
     "input": [
      "import numpy as np\n",
      "class Graph():\n",
      "    ''' class for storing and generating game maps '''\n",
      "    def __init__(self, numRow, numCol):\n",
      "        self.map = np.zeros([numRow,numCol], dtype='int32')\n",
      "        self.numRow = numRow\n",
      "        self.numCol = numCol\n",
      "\n",
      "    def generateRandom(self, numColors, dotsPerColor):\n",
      "        ''' generate random positions of color dots '''\n",
      "        #np.random.seed(100)\n",
      "        dots = []\n",
      "        for c in range(1,numColors+1):\n",
      "            for d in range(0, dotsPerColor):\n",
      "                done = False\n",
      "                while not done:\n",
      "                    row = np.random.randint(0, self.numRow)\n",
      "                    col = np.random.randint(0, self.numCol)\n",
      "                    if self.map[row, col] == 0:\n",
      "                        self.map[row, col] = c\n",
      "                        done = True\n",
      "        \n",
      "    def neighbors(self, pos, include=[0]):\n",
      "        ''' return neigbors of position pos marked with colors listed in include '''\n",
      "        pos = np.array(pos)\n",
      "        neig = []\n",
      "        for npos in  [pos+[0,1], pos+[1,0], pos+[-1,0], pos+[0,-1]]:\n",
      "            if npos[0] in range(0, self.numRow) and npos[1] in range(0, self.numCol):\n",
      "                if any(np.array(include) == self.map[tuple(npos)]):  # check with valid neigbor color \n",
      "                    neig.append(tuple(npos))\n",
      "        return neig"
     ],
     "language": "python",
     "metadata": {},
     "outputs": [],
     "prompt_number": 1
    },
    {
     "cell_type": "heading",
     "level": 2,
     "metadata": {},
     "source": [
      "Defining path structure"
     ]
    },
    {
     "cell_type": "markdown",
     "metadata": {},
     "source": [
      "The first problem is to create a way to represent paths starting from a color dot.  It may end on a dead end, or end by connecting a matching color dot.  Below I defined a node class to represent a point of a path.  If more than one of it's neighbor is empty, the path can take any of them as the next step.  So the node class can have a number of children, which are also nodes, as it's next steps."
     ]
    },
    {
     "cell_type": "code",
     "collapsed": false,
     "input": [
      "class node():\n",
      "    ''' data structure for tree nodes '''\n",
      "    def __init__(self, value, children = None, parent = None):\n",
      "        self.value = value  # coordinate tuple\n",
      "        if children is None:\n",
      "            self.children = list()\n",
      "        else:\n",
      "            self.children = list(children)  # list of nodes\n",
      "        self.parent = parent # a node or None if head node\n",
      "    def addChild(self, child):\n",
      "        self.children.append(child)"
     ],
     "language": "python",
     "metadata": {},
     "outputs": [],
     "prompt_number": 2
    },
    {
     "cell_type": "heading",
     "level": 2,
     "metadata": {},
     "source": [
      "Getting paths"
     ]
    },
    {
     "cell_type": "markdown",
     "metadata": {},
     "source": [
      "As my first shot, I consider a \"brute force\" approach that finds all possible paths starting from a color dot.  It always considers the initial map with only color dots, i.e. without any spots ocuppied by any paths.  Starting from a color dot, a path can either end on a dead end, or end by connecting another matching color dot.  As you can imagine, almost always there are more than 1 paths that can connect two matching color dots, especially when you consider the fact that we are acting on the initial empty game map.\n",
      "\n",
      "The walk function generates all possible paths from a color dot.  It first create a head node designating the position of the starting color dot.  It then populates the next possible moves as it's child nodes. The process repeats recursively until all possible paths are found.  It other words, it generates a tree for all possible paths.\n",
      "\n",
      "The getPaths function generates a list of paths, in the form of series of coordinates, from the tree generated by the walk function.\n",
      "\n",
      "If we do the walk and getPaths functions for all colors, we would find a set of all possible paths for each color.  By comparing them, we will be able to a solution that connects all matching dots while filling up all the empty spots, if that solution ever exists."
     ]
    },
    {
     "cell_type": "code",
     "collapsed": false,
     "input": [
      "def walk(current_node, graph, endColor):\n",
      "    ''' recursively walk on the graph to create a tree at ends either at dead end or endColor'''\n",
      "    for next in graph.neighbors(current_node.value, include=[0, endColor]):\n",
      "        if not visited(next, current_node):\n",
      "            next_node = node(next, parent=current_node)\n",
      "            current_node.addChild(next_node)\n",
      "            if  graph.map[next] != endColor:\n",
      "                walk(next_node, graph, endColor)\n",
      "\n",
      "def visited(position, current_node):\n",
      "    ''' trace back from current node to head.  return True if position is visited '''\n",
      "    n = current_node\n",
      "    while n.parent is not None:\n",
      "        n = n.parent\n",
      "        if n.value == position:\n",
      "            return True\n",
      "    return False\n",
      "\n",
      "def getPaths(node, endColor, graph, paths = None, path = None):\n",
      "    '''\n",
      "    Return all paths starting from node that ends at endColor.\n",
      "    Usage: paths = getPaths(head_node, endColor, graph)\n",
      "    '''\n",
      "    if paths is None: paths = list()\n",
      "    if path is None: path = list()\n",
      "    path.append(node.value)\n",
      "    if graph.map[node.value] == endColor and node.parent is not None:\n",
      "        paths.append(path) # record path ends at the right color\n",
      "    for child in node.children:\n",
      "        getPaths(child, endColor, graph, paths, list(path)) # list(path) to create new copy of path\n",
      "    return paths"
     ],
     "language": "python",
     "metadata": {},
     "outputs": [],
     "prompt_number": 3
    },
    {
     "cell_type": "code",
     "collapsed": false,
     "input": [
      "def getPathsAllColor(graph):\n",
      "    ''' \n",
      "    Get all possible paths from all color dots. \n",
      "    Return as dictionary of colors\n",
      "    '''\n",
      "    paths = {}\n",
      "    for color in np.unique(graph.map):\n",
      "        if color != 0:\n",
      "            pos = np.argwhere(graph.map==color)\n",
      "            start = tuple(pos[0])\n",
      "            head_node = node(start)\n",
      "            walk(head_node, graph, color)\n",
      "            paths[color] = getPaths(head_node,color, graph)\n",
      "    return paths\n",
      "\n",
      "\n",
      "def checkPaths(paths, graph):\n",
      "    m = np.zeros(graph.map.shape, dtype='bool')\n",
      "    for p in paths:\n",
      "        for pos in p:\n",
      "            if m[pos] == False:\n",
      "                m[pos] = True\n",
      "            else:\n",
      "                return False    \n",
      "    if m.all():\n",
      "        return True\n",
      "    else:\n",
      "        return False\n",
      "\n",
      "def showPath(p, graph):\n",
      "    mm = np.array(graph.map)\n",
      "    for c in range(len(p)):\n",
      "        for pos in p[c]:\n",
      "            mm[pos] = c+1\n",
      "    print mm\n",
      "        \n",
      "import itertools\n",
      "def solve_bruteForce(paths, graph):\n",
      "    for p in itertools.product( *(paths[key] for key in paths) ):\n",
      "        if checkPaths(p, graph):\n",
      "            yield p"
     ],
     "language": "python",
     "metadata": {},
     "outputs": [],
     "prompt_number": 4
    },
    {
     "cell_type": "heading",
     "level": 2,
     "metadata": {},
     "source": [
      "An example"
     ]
    },
    {
     "cell_type": "markdown",
     "metadata": {},
     "source": [
      "Here's an example I took out from the game.  I first reproduce the 5-by-5 game map.  There are 5 pairs of color dots, represented by number 1 to 5."
     ]
    },
    {
     "cell_type": "code",
     "collapsed": false,
     "input": [
      "graph = Graph(5,5)\n",
      "graph.map[2,0] = 1\n",
      "graph.map[0,2] = 1\n",
      "graph.map[4,0] = 2\n",
      "graph.map[0,3] = 2\n",
      "graph.map[0,4] = 3\n",
      "graph.map[3,4] = 3\n",
      "graph.map[3,3] = 4\n",
      "graph.map[4,4] = 4\n",
      "graph.map[4,1] = 5\n",
      "graph.map[2,3] = 5\n",
      "print graph.map"
     ],
     "language": "python",
     "metadata": {},
     "outputs": [
      {
       "output_type": "stream",
       "stream": "stdout",
       "text": [
        "[[0 0 1 2 3]\n",
        " [0 0 0 0 0]\n",
        " [1 0 0 5 0]\n",
        " [0 0 0 4 3]\n",
        " [2 5 0 0 4]]\n"
       ]
      }
     ],
     "prompt_number": 5
    },
    {
     "cell_type": "markdown",
     "metadata": {},
     "source": [
      "Then we use getPathsAllColor function to get all possible paths for all colors, and use solve_bruteForce generator function to find a soluton."
     ]
    },
    {
     "cell_type": "code",
     "collapsed": false,
     "input": [
      "paths = getPathsAllColor(graph)  # find all possible paths for all colors\n",
      "p = solve_bruteForce(paths, graph)  # solution generator\n",
      "showPath(p.next(), graph)"
     ],
     "language": "python",
     "metadata": {},
     "outputs": [
      {
       "output_type": "stream",
       "stream": "stdout",
       "text": [
        "[[1 1 1 2 3]\n",
        " [1 2 2 2 3]\n",
        " [1 2 5 5 3]\n",
        " [2 2 5 4 3]\n",
        " [2 5 5 4 4]]\n"
       ]
      }
     ],
     "prompt_number": 6
    },
    {
     "cell_type": "markdown",
     "metadata": {},
     "source": [
      "Another example:"
     ]
    },
    {
     "cell_type": "code",
     "collapsed": false,
     "input": [
      "graph = Graph(6,6)\n",
      "graph.map[0,0] = 1\n",
      "graph.map[1,2] = 1\n",
      "graph.map[1,0] = 2\n",
      "graph.map[1,3] = 2\n",
      "graph.map[0,2] = 3\n",
      "graph.map[4,3] = 3\n",
      "graph.map[3,1] = 4\n",
      "graph.map[4,4] = 4\n",
      "graph.map[3,2] = 5\n",
      "graph.map[4,1] = 5\n",
      "graph.map[0,5] = 6\n",
      "graph.map[5,5] = 6\n",
      "print graph.map"
     ],
     "language": "python",
     "metadata": {},
     "outputs": [
      {
       "output_type": "stream",
       "stream": "stdout",
       "text": [
        "[[1 0 3 0 0 6]\n",
        " [2 0 1 2 0 0]\n",
        " [0 0 0 0 0 0]\n",
        " [0 4 5 0 0 0]\n",
        " [0 5 0 3 4 0]\n",
        " [0 0 0 0 0 6]]\n"
       ]
      }
     ],
     "prompt_number": 7
    },
    {
     "cell_type": "code",
     "collapsed": false,
     "input": [
      "paths = getPathsAllColor(graph)  # find all possible paths for all colors\n",
      "p = solve_bruteForce(paths, graph)  # solution generator\n",
      "showPath(p.next(), graph)"
     ],
     "language": "python",
     "metadata": {},
     "outputs": [
      {
       "output_type": "stream",
       "stream": "stdout",
       "text": [
        "[[1 1 3 3 3 6]\n",
        " [2 1 1 2 3 6]\n",
        " [2 2 2 2 3 6]\n",
        " [4 4 5 3 3 6]\n",
        " [4 5 5 3 4 6]\n",
        " [4 4 4 4 4 6]]\n"
       ]
      }
     ],
     "prompt_number": 8
    },
    {
     "cell_type": "heading",
     "level": 2,
     "metadata": {},
     "source": [
      "Final thoughts"
     ]
    },
    {
     "cell_type": "markdown",
     "metadata": {},
     "source": [
      "Although it works, the brute force search approach is pretty slow.  It would be interesting to find other search methods to improve speed.\n",
      "\n",
      "The code-based method to construct the game map is not user-friendly.  Some kind of GUI would be a great improvement.\n",
      "\n",
      "Another drawback is that this program does not work when there are more than 1 pair of color dots with the same color."
     ]
    }
   ],
   "metadata": {}
  }
 ]
}